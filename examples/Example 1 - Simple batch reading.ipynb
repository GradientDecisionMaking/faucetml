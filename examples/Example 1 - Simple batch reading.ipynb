{
 "cells": [
  {
   "cell_type": "markdown",
   "metadata": {},
   "source": [
    "### Example 1 - Read mini-batches from bigquery (no feature store or preprocessing)"
   ]
  },
  {
   "cell_type": "markdown",
   "metadata": {},
   "source": [
    "Assumes data stored in Bigquery table with schema:\n",
    "\n",
    "| hash_on (NUMERIC or STRING) |       features (STRUCT)       |  labels (STRUCT) |\n",
    "|-----------------------------|-------------------------------|------------------|\n",
    "|        231248228319         | {\"age\": 16, \"ctr\": 0.021, ...} |  {\"clicked\": 0}  |\n",
    "|        913672219001         | {\"age\": 33, \"ctr\": 0.056, ...} |  {\"clicked\": 0}  |\n",
    "\n",
    "Note: hash_on is used to conduct consistent sampling & traning / test splitting. In BQ simply use \n",
    "something like `select rand() * 100000 as hash_on, ...` to create the hash_on column."
   ]
  },
  {
   "cell_type": "code",
   "execution_count": 1,
   "metadata": {},
   "outputs": [],
   "source": [
    "from faucetml.data_reader import get_client"
   ]
  },
  {
   "cell_type": "code",
   "execution_count": 5,
   "metadata": {},
   "outputs": [],
   "source": [
    "NUM_EPOCHS = 2\n",
    "MINIBATCH_SIZE = 128\n",
    "\n",
    "fml = get_client(\n",
    "    datastore=\"bigquery\",\n",
    "    credential_path=\"bq_creds.json\",\n",
    "    table_name=\"gradient-decision.test_titanic.training_table\",\n",
    "    ds=\"2020-01-20\",\n",
    "    epochs=NUM_EPOCHS,\n",
    "    batch_size=MINIBATCH_SIZE,\n",
    "    chunk_size=MINIBATCH_SIZE * 5,\n",
    "    table_sample_percent=100,\n",
    "    test_split_percent=20,\n",
    "    skip_small_batches=False,\n",
    ")"
   ]
  },
  {
   "cell_type": "code",
   "execution_count": 3,
   "metadata": {},
   "outputs": [
    {
     "name": "stderr",
     "output_type": "stream",
     "text": [
      "[17:03:24 INFO] Generating temp table with following query:\n",
      "[17:03:24 INFO] select * from `gradient-decision.test_titanic.training_table` where date(_PARTITIONTIME) = '2020-01-20' and MOD(ABS(FARM_FINGERPRINT(cast(hash_on as string))), 1000) / 1000 < 0.8;\n",
      "[17:03:24 INFO] Temp table generated. Took 0.74s.\n",
      "[17:03:24 INFO] Epoch 1 contains 721 rows.\n"
     ]
    }
   ],
   "source": [
    "# call once per epoch\n",
    "fml.prep_for_epoch()"
   ]
  },
  {
   "cell_type": "code",
   "execution_count": 4,
   "metadata": {},
   "outputs": [
    {
     "name": "stderr",
     "output_type": "stream",
     "text": [
      "[17:03:29 INFO] Got batch 1/6 for epoch 1/2 (8%)\n"
     ]
    },
    {
     "data": {
      "text/plain": [
       "{'features':      pclass  sex        age  num_siblings_or_spouses  num_children_or_parents  \\\n",
       " 0         3    0  25.000000                        0                        0   \n",
       " 1         3    1  21.773973                        0                        0   \n",
       " 2         1    0  28.000000                        1                        0   \n",
       " 3         3    0   4.574167                        3                        1   \n",
       " 4         3    1   9.000000                        3                        2   \n",
       " ..      ...  ...        ...                      ...                      ...   \n",
       " 123       2    1  32.000000                        0                        0   \n",
       " 124       3    0  48.000000                        0                        0   \n",
       " 125       2    1  21.773973                        0                        0   \n",
       " 126       3    0   7.000000                        4                        1   \n",
       " 127       1    0  52.000000                        1                        1   \n",
       " \n",
       "      family_size     fare  has_cabin  title  embarked  \n",
       " 0              1   7.0500          0      7         1  \n",
       " 1              1   7.7500          0      1         0  \n",
       " 2              2  82.1708          0      7         2  \n",
       " 3              5  25.4667          0      5         1  \n",
       " 4              6  27.9000          0      1         1  \n",
       " ..           ...      ...        ...    ...       ...  \n",
       " 123            1  13.0000          0      6         1  \n",
       " 124            1   7.8542          0      7         1  \n",
       " 125            1  33.0000          0      1         1  \n",
       " 126            6  39.6875          0      5         1  \n",
       " 127            3  79.6500          1      7         1  \n",
       " \n",
       " [128 rows x 10 columns], 'labels':      survived\n",
       " 0           0\n",
       " 1           1\n",
       " 2           0\n",
       " 3           0\n",
       " 4           0\n",
       " ..        ...\n",
       " 123         1\n",
       " 124         0\n",
       " 125         1\n",
       " 126         0\n",
       " 127         0\n",
       " \n",
       " [128 rows x 1 columns], 'batch_num': 1, 'batches_per_epoch': 6}"
      ]
     },
     "execution_count": 4,
     "metadata": {},
     "output_type": "execute_result"
    }
   ],
   "source": [
    "# get one batch of training data\n",
    "fml.get_batch()"
   ]
  },
  {
   "cell_type": "code",
   "execution_count": 6,
   "metadata": {},
   "outputs": [
    {
     "name": "stderr",
     "output_type": "stream",
     "text": [
      "[17:04:05 INFO] Generating temp table with following query:\n",
      "[17:04:05 INFO] select * from `gradient-decision.test_titanic.training_table` where date(_PARTITIONTIME) = '2020-01-20' and MOD(ABS(FARM_FINGERPRINT(cast(hash_on as string))), 1000) / 1000 < 0.8;\n",
      "[17:04:05 INFO] Temp table generated. Took 0.63s.\n",
      "[17:04:05 INFO] Epoch 1 contains 721 rows.\n",
      "[17:04:06 INFO] Got batch 1/6 for epoch 1/2 (8%)\n",
      "[17:04:06 INFO] Got batch 2/6 for epoch 1/2 (17%)\n",
      "[17:04:06 INFO] Got batch 3/6 for epoch 1/2 (25%)\n",
      "[17:04:06 INFO] Got batch 4/6 for epoch 1/2 (33%)\n",
      "[17:04:06 INFO] Got batch 5/6 for epoch 1/2 (42%)\n",
      "[17:04:06 INFO] Got batch 6/6 for epoch 1/2 (50%)\n",
      "[17:04:06 INFO] Generating temp table with following query:\n",
      "[17:04:06 INFO] select * from `gradient-decision.test_titanic.training_table` where date(_PARTITIONTIME) = '2020-01-20' and MOD(ABS(FARM_FINGERPRINT(cast(hash_on as string))), 1000) / 1000 between 0.8 and 1.0\n",
      "[17:04:07 INFO] Temp table generated. Took 0.52s.\n",
      "[17:04:07 INFO] **************************************************\n",
      "[17:04:07 INFO] Starting end of epoch evaluation...\n",
      "[17:04:07 INFO] **************************************************\n",
      "[17:04:07 INFO] Eval pass 1 contains 170 rows.\n",
      "[17:04:08 INFO] Got batch 1/2 for epoch 1/2 (50%)\n",
      "[17:04:08 INFO] Got batch 2/2 for epoch 1/2 (50%)\n",
      "[17:04:08 INFO] Generating temp table with following query:\n",
      "[17:04:08 INFO] select * from `gradient-decision.test_titanic.training_table` where date(_PARTITIONTIME) = '2020-01-20' and MOD(ABS(FARM_FINGERPRINT(cast(hash_on as string))), 1000) / 1000 < 0.8;\n",
      "[17:04:08 INFO] Temp table generated. Took 0.0s.\n",
      "[17:04:08 INFO] Epoch 2 contains 721 rows.\n",
      "[17:04:08 INFO] Got batch 1/6 for epoch 2/2 (58%)\n",
      "[17:04:08 INFO] Got batch 2/6 for epoch 2/2 (67%)\n",
      "[17:04:08 INFO] Got batch 3/6 for epoch 2/2 (75%)\n",
      "[17:04:08 INFO] Got batch 4/6 for epoch 2/2 (83%)\n",
      "[17:04:08 INFO] Got batch 5/6 for epoch 2/2 (92%)\n",
      "[17:04:09 INFO] Got batch 6/6 for epoch 2/2 (100%)\n",
      "[17:04:09 INFO] Generating temp table with following query:\n",
      "[17:04:09 INFO] select * from `gradient-decision.test_titanic.training_table` where date(_PARTITIONTIME) = '2020-01-20' and MOD(ABS(FARM_FINGERPRINT(cast(hash_on as string))), 1000) / 1000 between 0.8 and 1.0\n",
      "[17:04:09 INFO] Temp table generated. Took 0.0s.\n",
      "[17:04:09 INFO] **************************************************\n",
      "[17:04:09 INFO] Starting end of epoch evaluation...\n",
      "[17:04:09 INFO] **************************************************\n",
      "[17:04:09 INFO] Eval pass 2 contains 170 rows.\n",
      "[17:04:09 INFO] Got batch 1/2 for epoch 2/2 (50%)\n",
      "[17:04:09 INFO] Got batch 2/2 for epoch 2/2 (100%)\n"
     ]
    }
   ],
   "source": [
    "# or run through the whole data set\n",
    "\n",
    "for i in range(NUM_EPOCHS):\n",
    "\n",
    "    # training\n",
    "    fml.prep_for_epoch()\n",
    "    mini_batch = fml.get_batch()\n",
    "    while mini_batch is not None:\n",
    "        mini_batch = fml.get_batch()\n",
    "        # model.train(mini_batch)\n",
    "        \n",
    "    # eval\n",
    "    fml.prep_for_eval()\n",
    "    mini_batch = fml.get_batch(eval=True) \n",
    "    while mini_batch is not None:\n",
    "        mini_batch = fml.get_batch()\n",
    "        # model.eval(mini_batch)\n"
   ]
  }
 ],
 "metadata": {
  "kernelspec": {
   "display_name": "Python 3",
   "language": "python",
   "name": "python3"
  },
  "language_info": {
   "codemirror_mode": {
    "name": "ipython",
    "version": 3
   },
   "file_extension": ".py",
   "mimetype": "text/x-python",
   "name": "python",
   "nbconvert_exporter": "python",
   "pygments_lexer": "ipython3",
   "version": "3.7.4"
  }
 },
 "nbformat": 4,
 "nbformat_minor": 4
}
